{
 "cells": [
  {
   "cell_type": "code",
   "execution_count": 1,
   "id": "03080e32",
   "metadata": {},
   "outputs": [],
   "source": [
    "# Import dependencies\n",
    "import pandas as pd\n",
    "from pathlib import Path\n",
    "import chardet\n",
    "import matplotlib.pyplot as plt\n",
    "import scipy.stats as st\n",
    "import numpy as np"
   ]
  },
  {
   "cell_type": "code",
   "execution_count": 8,
   "id": "a3131727",
   "metadata": {},
   "outputs": [
    {
     "data": {
      "text/html": [
       "<div>\n",
       "<style scoped>\n",
       "    .dataframe tbody tr th:only-of-type {\n",
       "        vertical-align: middle;\n",
       "    }\n",
       "\n",
       "    .dataframe tbody tr th {\n",
       "        vertical-align: top;\n",
       "    }\n",
       "\n",
       "    .dataframe thead th {\n",
       "        text-align: right;\n",
       "    }\n",
       "</style>\n",
       "<table border=\"1\" class=\"dataframe\">\n",
       "  <thead>\n",
       "    <tr style=\"text-align: right;\">\n",
       "      <th></th>\n",
       "      <th>State</th>\n",
       "      <th>Percentage of Uninsured Adults</th>\n",
       "      <th>Percentage of Adults visit Reg Doctors</th>\n",
       "      <th>Avoidable Deaths per 100k Population</th>\n",
       "      <th>Treatable Deaths per 100k Population</th>\n",
       "      <th>Preventable Deaths per 100k Population</th>\n",
       "    </tr>\n",
       "  </thead>\n",
       "  <tbody>\n",
       "    <tr>\n",
       "      <th>0</th>\n",
       "      <td>Alabama</td>\n",
       "      <td>15.25</td>\n",
       "      <td>77.65</td>\n",
       "      <td>321.2</td>\n",
       "      <td>108.5</td>\n",
       "      <td>212.6</td>\n",
       "    </tr>\n",
       "    <tr>\n",
       "      <th>1</th>\n",
       "      <td>Alaska</td>\n",
       "      <td>15.60</td>\n",
       "      <td>65.55</td>\n",
       "      <td>261.7</td>\n",
       "      <td>67.9</td>\n",
       "      <td>193.9</td>\n",
       "    </tr>\n",
       "    <tr>\n",
       "      <th>2</th>\n",
       "      <td>Arizona</td>\n",
       "      <td>15.00</td>\n",
       "      <td>72.20</td>\n",
       "      <td>249.3</td>\n",
       "      <td>76.1</td>\n",
       "      <td>173.2</td>\n",
       "    </tr>\n",
       "    <tr>\n",
       "      <th>3</th>\n",
       "      <td>Arkansas</td>\n",
       "      <td>12.70</td>\n",
       "      <td>80.00</td>\n",
       "      <td>351.0</td>\n",
       "      <td>121.7</td>\n",
       "      <td>229.3</td>\n",
       "    </tr>\n",
       "    <tr>\n",
       "      <th>4</th>\n",
       "      <td>California</td>\n",
       "      <td>10.55</td>\n",
       "      <td>74.65</td>\n",
       "      <td>203.8</td>\n",
       "      <td>70.8</td>\n",
       "      <td>133.1</td>\n",
       "    </tr>\n",
       "  </tbody>\n",
       "</table>\n",
       "</div>"
      ],
      "text/plain": [
       "        State  Percentage of Uninsured Adults  \\\n",
       "0     Alabama                           15.25   \n",
       "1      Alaska                           15.60   \n",
       "2     Arizona                           15.00   \n",
       "3    Arkansas                           12.70   \n",
       "4  California                           10.55   \n",
       "\n",
       "   Percentage of Adults visit Reg Doctors  \\\n",
       "0                                   77.65   \n",
       "1                                   65.55   \n",
       "2                                   72.20   \n",
       "3                                   80.00   \n",
       "4                                   74.65   \n",
       "\n",
       "   Avoidable Deaths per 100k Population  Treatable Deaths per 100k Population  \\\n",
       "0                                 321.2                                 108.5   \n",
       "1                                 261.7                                  67.9   \n",
       "2                                 249.3                                  76.1   \n",
       "3                                 351.0                                 121.7   \n",
       "4                                 203.8                                  70.8   \n",
       "\n",
       "   Preventable Deaths per 100k Population  \n",
       "0                                   212.6  \n",
       "1                                   193.9  \n",
       "2                                   173.2  \n",
       "3                                   229.3  \n",
       "4                                   133.1  "
      ]
     },
     "execution_count": 8,
     "metadata": {},
     "output_type": "execute_result"
    }
   ],
   "source": [
    "# Read in cleaned CSV\n",
    "# It is unclear why the index is reading in as a column, this is not how the data shows prior to export to CSV\n",
    "merged_data = pd.read_csv('Cleaned_Dataframes/Merged_Dataframes_cleaned.csv')\n",
    "merged_data.head()"
   ]
  },
  {
   "cell_type": "code",
   "execution_count": 28,
   "id": "349ab3fe",
   "metadata": {},
   "outputs": [
    {
     "name": "stdout",
     "output_type": "stream",
     "text": [
      "Summary Statistics\n",
      "count    51.000000\n",
      "mean     11.609804\n",
      "std       4.407358\n",
      "min       4.100000\n",
      "25%       8.300000\n",
      "50%      11.300000\n",
      "75%      14.900000\n",
      "max      24.200000\n",
      "Name: Percentage of Uninsured Adults, dtype: float64\n",
      "count    51.000000\n",
      "mean     77.522549\n",
      "std       5.502566\n",
      "min      65.550000\n",
      "25%      73.650000\n",
      "50%      77.500000\n",
      "75%      81.725000\n",
      "max      87.250000\n",
      "Name: Percentage of Adults visit Reg Doctors, dtype: float64\n",
      "count     51.000000\n",
      "mean     260.709804\n",
      "std       51.413665\n",
      "min      185.900000\n",
      "25%      222.050000\n",
      "50%      252.200000\n",
      "75%      295.600000\n",
      "max      385.600000\n",
      "Name: Avoidable Deaths per 100k Population, dtype: float64\n",
      "count     51.000000\n",
      "mean      84.354902\n",
      "std       18.685335\n",
      "min       59.500000\n",
      "25%       70.050000\n",
      "50%       80.800000\n",
      "75%       95.200000\n",
      "max      137.500000\n",
      "Name: Treatable Deaths per 100k Population, dtype: float64\n",
      "count     51.000000\n",
      "mean     176.349020\n",
      "std       34.608296\n",
      "min      126.400000\n",
      "25%      151.900000\n",
      "50%      173.200000\n",
      "75%      199.850000\n",
      "max      269.000000\n",
      "Name: Preventable Deaths per 100k Population, dtype: float64\n"
     ]
    }
   ],
   "source": [
    "# Describe data per column\n",
    "stat_summ_unis = merged_data[\"Percentage of Uninsured Adults\"].describe()\n",
    "stat_summ_doc = merged_data[\"Percentage of Adults visit Reg Doctors\"].describe()\n",
    "stat_summ_avoi = merged_data[\"Avoidable Deaths per 100k Population\"].describe()\n",
    "stat_summ_treat = merged_data[\"Treatable Deaths per 100k Population\"].describe()\n",
    "stat_summ_prev = merged_data[\"Preventable Deaths per 100k Population\"].describe()\n",
    "\n",
    "print('Summary Statistics')\n",
    "print(stat_summ_unis)\n",
    "print(stat_summ_doc)\n",
    "print(stat_summ_avoi)\n",
    "print(stat_summ_treat)\n",
    "print(stat_summ_prev)"
   ]
  },
  {
   "cell_type": "code",
   "execution_count": 24,
   "id": "aa3ff08f",
   "metadata": {},
   "outputs": [
    {
     "name": "stdout",
     "output_type": "stream",
     "text": [
      "Variance:\n",
      "% Uninsured Adults: 19.424801960784308\n",
      "% Adults with Primary Care Doc: 30.27823137254904\n",
      "Avoidable Deaths: 2643.3649019607838\n",
      "Treatable Deaths: 349.1417254901961\n",
      "Preventable Deaths: 1197.7341490196081\n"
     ]
    }
   ],
   "source": [
    "# Data variance\n",
    "var_unis = merged_data[\"Percentage of Uninsured Adults\"].var()\n",
    "var_doc = merged_data[\"Percentage of Adults visit Reg Doctors\"].var()\n",
    "var_avoi = merged_data[\"Avoidable Deaths per 100k Population\"].var()\n",
    "var_treat = merged_data[\"Treatable Deaths per 100k Population\"].var()\n",
    "var_prev = merged_data[\"Preventable Deaths per 100k Population\"].var()\n",
    "\n",
    "print('Variance:')\n",
    "print(f'% Uninsured Adults: {var_unis}')\n",
    "print(f'% Adults with Primary Care Doc: {var_doc}')\n",
    "print(f'Avoidable Deaths: {var_avoi}')\n",
    "print(f'Treatable Deaths: {var_treat}')\n",
    "print(f'Preventable Deaths: {var_prev}')"
   ]
  },
  {
   "cell_type": "code",
   "execution_count": 26,
   "id": "d86ce170",
   "metadata": {},
   "outputs": [
    {
     "name": "stdout",
     "output_type": "stream",
     "text": [
      "Standard Deviation:\n",
      "% Uninsured Adults: 4.407357707378005\n",
      "% Adults with Primary Care Doc: 5.502565889887102\n",
      "Avoidable Deaths: 51.413664545145814\n",
      "Treatable Deaths: 18.685334503031946\n",
      "Preventable Deaths: 34.60829595659989\n"
     ]
    }
   ],
   "source": [
    "# Standard Deviation\n",
    "std_unis = merged_data[\"Percentage of Uninsured Adults\"].std()\n",
    "std_doc = merged_data[\"Percentage of Adults visit Reg Doctors\"].std()\n",
    "std_avoi = merged_data[\"Avoidable Deaths per 100k Population\"].std()\n",
    "std_treat = merged_data[\"Treatable Deaths per 100k Population\"].std()\n",
    "std_prev = merged_data[\"Preventable Deaths per 100k Population\"].std()\n",
    "\n",
    "print('Standard Deviation:')\n",
    "print(f'% Uninsured Adults: {std_unis}')\n",
    "print(f'% Adults with Primary Care Doc: {std_doc}')\n",
    "print(f'Avoidable Deaths: {std_avoi}')\n",
    "print(f'Treatable Deaths: {std_treat}')\n",
    "print(f'Preventable Deaths: {std_prev}')"
   ]
  },
  {
   "cell_type": "code",
   "execution_count": null,
   "id": "cefe4918",
   "metadata": {},
   "outputs": [],
   "source": [
    "# Copying - NEEDS EDITED\n",
    "x_axis = np.arange(len(avoi_deaths_df))\n",
    "tick_locations = [State for State in x_axis]\n",
    "plt.figure(figsize=(20,4))\n",
    "plt.bar(x_axis, avoi_deaths_df[\"Deaths per 100k Population\"], color='b', alpha=0.5, align=\"center\")\n",
    "plt.xticks(tick_locations, avoi_deaths_df[\"State\"], rotation=\"vertical\")\n",
    "plt.show()"
   ]
  },
  {
   "cell_type": "code",
   "execution_count": null,
   "id": "09785c1f",
   "metadata": {},
   "outputs": [],
   "source": [
    "# COPY - NEEDS EDITED\n",
    "# This one is NOT correct yet - playing with the idea of standard deviation bars - currently it's not doing standard deviation from the average\n",
    "# std_dev = avoi_deaths_df['Deaths per 100k Population'].std()\n",
    "\n",
    "# x_axis = np.arange(len(avoi_deaths_df))\n",
    "# tick_locations = [State for State in x_axis]\n",
    "# plt.figure(figsize=(20,4))\n",
    "# plt.bar(x_axis, avoi_deaths_df[\"Deaths per 100k Population\"], color='b', alpha=0.5, align=\"center\")\n",
    "# plt.xticks(tick_locations, avoi_deaths_df[\"State\"], rotation=\"vertical\")\n",
    "# plt.errorbar(avoi_deaths_df['State'], avoi_deaths_df['Deaths per 100k Population'], yerr=std_dev, fmt='o', color='r', ecolor='black', capsize=5)\n",
    "# plt.show()"
   ]
  },
  {
   "cell_type": "code",
   "execution_count": null,
   "id": "c85434c5",
   "metadata": {},
   "outputs": [],
   "source": [
    "#COPY _ EDITS NEEDED\n",
    "# Sort the data set high to low - Top 5 results\n",
    "unis_clean_1819_sorted = unis_clean_1819.sort_values(\"Percentage of Uninsured Adults\")\n",
    "unis_clean_1819_sorted.head()"
   ]
  },
  {
   "cell_type": "code",
   "execution_count": null,
   "id": "2ad1312d",
   "metadata": {},
   "outputs": [],
   "source": [
    "# COPY\n",
    "# bottom 5 results\n",
    "unis_clean_1819_sorted.tail()"
   ]
  },
  {
   "cell_type": "code",
   "execution_count": null,
   "id": "732d7995",
   "metadata": {},
   "outputs": [],
   "source": [
    "# COPY\n",
    "x_axis = np.arange(len(unis_clean_1819_sorted))\n",
    "tick_locations = [State for State in x_axis]\n",
    "plt.figure(figsize=(20,4))\n",
    "plt.bar(x_axis, unis_clean_1819_sorted[\"Percentage of Uninsured Adults\"], color='b', alpha=0.5, align=\"center\")\n",
    "plt.xticks(tick_locations, unis_clean_1819_sorted[\"State\"], rotation=\"vertical\")\n",
    "plt.title('Average Percentage of Uninsured Individuals per State (2018-2019)')\n",
    "plt.xlabel('State')\n",
    "plt.ylabel('Percentage of Uninsured Individuals')\n",
    "plt.show()"
   ]
  },
  {
   "cell_type": "code",
   "execution_count": null,
   "id": "b004481c",
   "metadata": {},
   "outputs": [],
   "source": [
    "# COPY \n",
    "# Sort the data set high to low - top 5 results\n",
    "avoi_deaths_df_sorted = avoi_deaths_df.sort_values(\"Deaths per 100k Population\")\n",
    "avoi_deaths_df_sorted.head()"
   ]
  },
  {
   "cell_type": "code",
   "execution_count": null,
   "id": "02dfb481",
   "metadata": {},
   "outputs": [],
   "source": [
    "# COPY\n",
    "# Bottom 5 results\n",
    "avoi_deaths_df_sorted.tail()"
   ]
  },
  {
   "cell_type": "code",
   "execution_count": null,
   "id": "c77767b1",
   "metadata": {},
   "outputs": [],
   "source": [
    "# COPY\n",
    "x_axis = np.arange(len(avoi_deaths_df_sorted))\n",
    "tick_locations = [State for State in x_axis]\n",
    "plt.figure(figsize=(20,4))\n",
    "plt.bar(x_axis, avoi_deaths_df_sorted[\"Deaths per 100k Population\"], color='b', alpha=0.5, align=\"center\")\n",
    "plt.xticks(tick_locations, avoi_deaths_df_sorted[\"State\"], rotation=\"vertical\")\n",
    "plt.title('Avoidable Deaths per 100,000 Population per State (2018-2019)')\n",
    "plt.xlabel('State')\n",
    "plt.ylabel('Deaths per 100k Population')\n",
    "plt.show()"
   ]
  },
  {
   "cell_type": "code",
   "execution_count": null,
   "id": "bf3f1677",
   "metadata": {},
   "outputs": [],
   "source": [
    "# COPY\n",
    "# Sort the data set high to low \n",
    "treat_deaths_df_sorted = treat_deaths_df.sort_values(\"Deaths per 100k Population\")\n",
    "treat_deaths_df_sorted.head()"
   ]
  },
  {
   "cell_type": "code",
   "execution_count": null,
   "id": "c3b5ed94",
   "metadata": {},
   "outputs": [],
   "source": [
    "# COPY\n",
    "# Bottom 5 results\n",
    "treat_deaths_df_sorted.tail()"
   ]
  },
  {
   "cell_type": "code",
   "execution_count": null,
   "id": "9ba0cda1",
   "metadata": {},
   "outputs": [],
   "source": [
    "# COPY\n",
    "x_axis = np.arange(len(treat_deaths_df_sorted))\n",
    "tick_locations = [State for State in x_axis]\n",
    "plt.figure(figsize=(20,4))\n",
    "plt.bar(x_axis, treat_deaths_df_sorted[\"Deaths per 100k Population\"], color='g', alpha=0.5, align=\"center\")\n",
    "plt.xticks(tick_locations, treat_deaths_df_sorted[\"State\"], rotation=\"vertical\")\n",
    "plt.title('Treatable Deaths per 100,000 Population per State (2018-2019)')\n",
    "plt.xlabel('State')\n",
    "plt.ylabel('Deaths per 100k Population')\n",
    "plt.show()"
   ]
  },
  {
   "cell_type": "code",
   "execution_count": null,
   "id": "704a40dd",
   "metadata": {},
   "outputs": [],
   "source": [
    "# COPY\n",
    "# Sort the data set high to low - top 5 results\n",
    "prev_deaths_df_sorted = prev_deaths_df.sort_values(\"Deaths per 100k Population\")\n",
    "prev_deaths_df_sorted.head()"
   ]
  },
  {
   "cell_type": "code",
   "execution_count": null,
   "id": "19cddd02",
   "metadata": {},
   "outputs": [],
   "source": [
    "# COPY\n",
    "# Bottom 5 results\n",
    "prev_deaths_df_sorted.tail()"
   ]
  },
  {
   "cell_type": "code",
   "execution_count": null,
   "id": "77e0f523",
   "metadata": {},
   "outputs": [],
   "source": [
    "# COPY\n",
    "x_axis = np.arange(len(prev_deaths_df_sorted))\n",
    "tick_locations = [State for State in x_axis]\n",
    "plt.figure(figsize=(20,4))\n",
    "plt.bar(x_axis, prev_deaths_df_sorted[\"Deaths per 100k Population\"], color='y', alpha=0.5, align=\"center\")\n",
    "plt.xticks(tick_locations, prev_deaths_df_sorted[\"State\"], rotation=\"vertical\")\n",
    "plt.title('Preventable Deaths per 100,000 Population per State (2018-2019)')\n",
    "plt.xlabel('State')\n",
    "plt.ylabel('Deaths per 100k Population')\n",
    "plt.show()"
   ]
  },
  {
   "cell_type": "code",
   "execution_count": null,
   "id": "7d6d5c84",
   "metadata": {},
   "outputs": [],
   "source": [
    "# COPY\n",
    "# We ATTEMPTED to use the existing dataframes without the US -- but because those dropped based on index\n",
    "# the indexes didn't align and we got errors -- going to try to redo dfs instead\n",
    "\n",
    "# unis_clean_1819.reset_index()\n",
    "# percentage_unis = unis_clean_1819[\"Percentage of Uninsured Adults\"]\n",
    "# unis_1819_df = pd.DataFrame(percentage_unis)\n",
    "# unis_1819_df.head()"
   ]
  },
  {
   "cell_type": "code",
   "execution_count": null,
   "id": "689090b7",
   "metadata": {},
   "outputs": [],
   "source": [
    "# COPY\n",
    "# avoi_deaths_df.reset_index()\n",
    "# avoi_factor = avoi_deaths_df[\"Deaths per 100k Population\"]\n",
    "# avoi_clean_df = pd.DataFrame(avoi_factor)\n",
    "# avoi_clean_df.head()"
   ]
  },
  {
   "cell_type": "code",
   "execution_count": null,
   "id": "e2e302ac",
   "metadata": {},
   "outputs": [],
   "source": [
    "# COPY\n",
    "# Creating an official DataFrame for the uninsured data to utilize with graphs\n",
    "unis_1819_steptodf = census_1819_df.groupby(\"State\")[\"Percentage of Uninsured Adults\"].mean().reset_index()\n",
    "unis_factor = unis_1819_steptodf[\"Percentage of Uninsured Adults\"]\n",
    "unis_1819_df = pd.DataFrame(unis_factor)\n",
    "\n",
    "# Display the resulting DataFrame\n",
    "unis_1819_df.head()"
   ]
  },
  {
   "cell_type": "code",
   "execution_count": null,
   "id": "3dd802a5",
   "metadata": {},
   "outputs": [],
   "source": [
    "# COPY\n",
    "# creating an official dataframe for the avoidable deaths data\n",
    "avoi_factor = avoi_deaths_narrow[\"Deaths per 100k Population\"]\n",
    "avoidable_deaths_df = pd.DataFrame(avoi_factor)\n",
    "avoidable_deaths_df.head()"
   ]
  },
  {
   "cell_type": "code",
   "execution_count": null,
   "id": "ca352cc2",
   "metadata": {},
   "outputs": [],
   "source": [
    "# COPY\n",
    "uninsured = unis_1819_df['Percentage of Uninsured Adults']\n",
    "deaths = avoidable_deaths_df['Deaths per 100k Population']\n",
    "# the next line (pd.concat) is from ChatGPT : https://pandas.pydata.org/pandas-docs/stable/reference/api/pandas.concat.html\n",
    "clean_data_df = pd.concat([uninsured, deaths], axis=1).dropna()\n",
    "clean_data_df.head()"
   ]
  },
  {
   "cell_type": "code",
   "execution_count": null,
   "id": "a39abb17",
   "metadata": {},
   "outputs": [],
   "source": [
    "# COPY\n",
    "x_uninsured = clean_data_df.iloc[:,0] \n",
    "y_deaths = clean_data_df.iloc[:,1] \n",
    "correlation = st.pearsonr(x_uninsured,y_deaths) \n",
    "plt.scatter(x_uninsured,y_deaths) \n",
    "plt.xlabel('Percentage Uninsured') \n",
    "plt.ylabel('Avoidable Deaths per 100,000 Population')\n",
    "plt.title('Scatter Plot Showing Correlation Between Uninsured Individuals and Avoidable Deaths')\n",
    "print(f\"The correlation between both factors is {round(correlation[0],2)}\") \n",
    "plt.show()"
   ]
  },
  {
   "cell_type": "code",
   "execution_count": null,
   "id": "ad40209a",
   "metadata": {},
   "outputs": [],
   "source": [
    "# COPY\n",
    "unis_avoi = pd.merge(unis_clean_1819, avoi_deaths_df, on=[\"State\"])\n",
    "unis_avoi.head(15)"
   ]
  },
  {
   "cell_type": "code",
   "execution_count": null,
   "id": "4d7e01c4",
   "metadata": {},
   "outputs": [],
   "source": [
    "# COPY\n",
    "x_uninsured = unis_avoi.iloc[:,1] \n",
    "y_deaths = unis_avoi.iloc[:,3] \n",
    "correlation = st.pearsonr(x_uninsured,y_deaths) \n",
    "plt.scatter(x_uninsured,y_deaths) \n",
    "plt.xlabel('Percentage Uninsured') \n",
    "plt.ylabel('Avoidable Deaths per 100,000 Population')\n",
    "plt.title('Scatter Plot Showing Correlation Between Uninsured Individuals and Avoidable Deaths')\n",
    "print(f\"The correlation between both factors is {round(correlation[0],2)}\") \n",
    "plt.show()"
   ]
  },
  {
   "cell_type": "code",
   "execution_count": null,
   "id": "f00cf8a2",
   "metadata": {},
   "outputs": [],
   "source": [
    "# COPY\n",
    "unis_treat = pd.merge(unis_clean_1819, treat_deaths_df, on=[\"State\"])\n",
    "unis_treat.tail(15)"
   ]
  },
  {
   "cell_type": "code",
   "execution_count": null,
   "id": "b97bd38e",
   "metadata": {},
   "outputs": [],
   "source": [
    "# COPY\n",
    "x_uninsured = unis_treat.iloc[:,1] \n",
    "y_deaths = unis_treat.iloc[:,3] \n",
    "correlation = st.pearsonr(x_uninsured,y_deaths) \n",
    "plt.scatter(x_uninsured,y_deaths) \n",
    "plt.xlabel('Percentage Uninsured') \n",
    "plt.ylabel('Treatable Deaths per 100,000 Population')\n",
    "plt.title('Scatter Plot Showing Correlation Between Uninsured Individuals and Treatable Deaths')\n",
    "print(f\"The correlation between both factors is {round(correlation[0],2)}\") \n",
    "plt.show()"
   ]
  },
  {
   "cell_type": "code",
   "execution_count": null,
   "id": "56273ea3",
   "metadata": {},
   "outputs": [],
   "source": [
    "# COPY\n",
    "unis_prev = pd.merge(unis_clean_1819, prev_deaths_df, on=[\"State\"])\n",
    "unis_prev.tail(15)"
   ]
  },
  {
   "cell_type": "code",
   "execution_count": null,
   "id": "eabb6d82",
   "metadata": {},
   "outputs": [],
   "source": [
    "# COPY\n",
    "\n",
    "x_uninsured = unis_prev.iloc[:,1] \n",
    "y_deaths = unis_prev.iloc[:,3] \n",
    "correlation = st.pearsonr(x_uninsured,y_deaths) \n",
    "plt.scatter(x_uninsured,y_deaths) \n",
    "plt.xlabel('Percentage Uninsured') \n",
    "plt.ylabel('Preventable Deaths per 100,000 Population')\n",
    "plt.title('Scatter Plot Showing Correlation Between Uninsured Individuals and Preventable Deaths')\n",
    "print(f\"The correlation between both factors is {round(correlation[0],2)}\") \n",
    "plt.show()"
   ]
  }
 ],
 "metadata": {
  "kernelspec": {
   "display_name": "Python 3 (ipykernel)",
   "language": "python",
   "name": "python3"
  },
  "language_info": {
   "codemirror_mode": {
    "name": "ipython",
    "version": 3
   },
   "file_extension": ".py",
   "mimetype": "text/x-python",
   "name": "python",
   "nbconvert_exporter": "python",
   "pygments_lexer": "ipython3",
   "version": "3.10.13"
  }
 },
 "nbformat": 4,
 "nbformat_minor": 5
}
