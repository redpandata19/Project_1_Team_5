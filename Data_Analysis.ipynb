{
 "cells": [
  {
   "cell_type": "code",
   "execution_count": 1,
   "id": "22bc6cc6",
   "metadata": {},
   "outputs": [],
   "source": [
    "# Import dependencies\n",
    "import pandas as pd\n",
    "from pathlib import Path\n",
    "import chardet\n",
    "import matplotlib.pyplot as plt\n",
    "import scipy.stats as st\n",
    "import numpy as np"
   ]
  },
  {
   "cell_type": "code",
   "execution_count": 8,
   "id": "0961ba64",
   "metadata": {},
   "outputs": [
    {
     "data": {
      "text/html": [
       "<div>\n",
       "<style scoped>\n",
       "    .dataframe tbody tr th:only-of-type {\n",
       "        vertical-align: middle;\n",
       "    }\n",
       "\n",
       "    .dataframe tbody tr th {\n",
       "        vertical-align: top;\n",
       "    }\n",
       "\n",
       "    .dataframe thead th {\n",
       "        text-align: right;\n",
       "    }\n",
       "</style>\n",
       "<table border=\"1\" class=\"dataframe\">\n",
       "  <thead>\n",
       "    <tr style=\"text-align: right;\">\n",
       "      <th></th>\n",
       "      <th>State</th>\n",
       "      <th>Percentage of Uninsured Adults</th>\n",
       "      <th>Percentage of Adults visit Reg Doctors</th>\n",
       "      <th>Avoidable Deaths per 100k Population</th>\n",
       "      <th>Treatable Deaths per 100k Population</th>\n",
       "      <th>Preventable Deaths per 100k Population</th>\n",
       "    </tr>\n",
       "  </thead>\n",
       "  <tbody>\n",
       "    <tr>\n",
       "      <th>0</th>\n",
       "      <td>Alabama</td>\n",
       "      <td>15.25</td>\n",
       "      <td>77.65</td>\n",
       "      <td>321.2</td>\n",
       "      <td>108.5</td>\n",
       "      <td>212.6</td>\n",
       "    </tr>\n",
       "    <tr>\n",
       "      <th>1</th>\n",
       "      <td>Alaska</td>\n",
       "      <td>15.60</td>\n",
       "      <td>65.55</td>\n",
       "      <td>261.7</td>\n",
       "      <td>67.9</td>\n",
       "      <td>193.9</td>\n",
       "    </tr>\n",
       "    <tr>\n",
       "      <th>2</th>\n",
       "      <td>Arizona</td>\n",
       "      <td>15.00</td>\n",
       "      <td>72.20</td>\n",
       "      <td>249.3</td>\n",
       "      <td>76.1</td>\n",
       "      <td>173.2</td>\n",
       "    </tr>\n",
       "    <tr>\n",
       "      <th>3</th>\n",
       "      <td>Arkansas</td>\n",
       "      <td>12.70</td>\n",
       "      <td>80.00</td>\n",
       "      <td>351.0</td>\n",
       "      <td>121.7</td>\n",
       "      <td>229.3</td>\n",
       "    </tr>\n",
       "    <tr>\n",
       "      <th>4</th>\n",
       "      <td>California</td>\n",
       "      <td>10.55</td>\n",
       "      <td>74.65</td>\n",
       "      <td>203.8</td>\n",
       "      <td>70.8</td>\n",
       "      <td>133.1</td>\n",
       "    </tr>\n",
       "  </tbody>\n",
       "</table>\n",
       "</div>"
      ],
      "text/plain": [
       "        State  Percentage of Uninsured Adults  \\\n",
       "0     Alabama                           15.25   \n",
       "1      Alaska                           15.60   \n",
       "2     Arizona                           15.00   \n",
       "3    Arkansas                           12.70   \n",
       "4  California                           10.55   \n",
       "\n",
       "   Percentage of Adults visit Reg Doctors  \\\n",
       "0                                   77.65   \n",
       "1                                   65.55   \n",
       "2                                   72.20   \n",
       "3                                   80.00   \n",
       "4                                   74.65   \n",
       "\n",
       "   Avoidable Deaths per 100k Population  Treatable Deaths per 100k Population  \\\n",
       "0                                 321.2                                 108.5   \n",
       "1                                 261.7                                  67.9   \n",
       "2                                 249.3                                  76.1   \n",
       "3                                 351.0                                 121.7   \n",
       "4                                 203.8                                  70.8   \n",
       "\n",
       "   Preventable Deaths per 100k Population  \n",
       "0                                   212.6  \n",
       "1                                   193.9  \n",
       "2                                   173.2  \n",
       "3                                   229.3  \n",
       "4                                   133.1  "
      ]
     },
     "execution_count": 8,
     "metadata": {},
     "output_type": "execute_result"
    }
   ],
   "source": [
    "# Read in cleaned CSV\n",
    "# It is unclear why the index is reading in as a column, this is not how the data shows prior to export to CSV\n",
    "merged_data = pd.read_csv('Cleaned_Dataframes/Merged_Dataframes_cleaned.csv')\n",
    "merged_data.head()"
   ]
  },
  {
   "cell_type": "code",
   "execution_count": null,
   "id": "8c275a4d",
   "metadata": {},
   "outputs": [],
   "source": [
    "# Describe data per column\n",
    "avoi_deaths_df = {'column_name': []}"
   ]
  },
  {
   "cell_type": "code",
   "execution_count": null,
   "id": "2d33b42f",
   "metadata": {},
   "outputs": [],
   "source": [
    "# Copying describe data - NEEDS EDITED\n",
    "unis_clean_1819.describe()\n",
    "avoi_deaths_df.describe()\n",
    "prev_deaths_df.describe()\n",
    "treat_deaths_df.describe()"
   ]
  },
  {
   "cell_type": "code",
   "execution_count": null,
   "id": "24c1f607",
   "metadata": {},
   "outputs": [],
   "source": [
    "# Copying - NEEDS EDITED\n",
    "variance_unis_clean = unis_clean_1819['Percentage of Uninsured Adults'].var()\n",
    "variance_unis_clean"
   ]
  },
  {
   "cell_type": "code",
   "execution_count": 6,
   "id": "bf43cb48",
   "metadata": {},
   "outputs": [],
   "source": [
    "# Copying - NEEDS EDITED\n",
    "std_deviation_unis_clean = unis_clean_1819['Percentage of Uninsured Adults'].std()\n",
    "std_deviation_unis_clean"
   ]
  },
  {
   "cell_type": "code",
   "execution_count": null,
   "id": "ad2a9c4b",
   "metadata": {},
   "outputs": [],
   "source": [
    "# Copying - NEEDS EDITED\n",
    "x_axis = np.arange(len(avoi_deaths_df))\n",
    "tick_locations = [State for State in x_axis]\n",
    "plt.figure(figsize=(20,4))\n",
    "plt.bar(x_axis, avoi_deaths_df[\"Deaths per 100k Population\"], color='b', alpha=0.5, align=\"center\")\n",
    "plt.xticks(tick_locations, avoi_deaths_df[\"State\"], rotation=\"vertical\")\n",
    "plt.show()"
   ]
  },
  {
   "cell_type": "code",
   "execution_count": null,
   "id": "f28780da",
   "metadata": {},
   "outputs": [],
   "source": [
    "# COPY - NEEDS EDITED\n",
    "# This one is NOT correct yet - playing with the idea of standard deviation bars - currently it's not doing standard deviation from the average\n",
    "# std_dev = avoi_deaths_df['Deaths per 100k Population'].std()\n",
    "\n",
    "# x_axis = np.arange(len(avoi_deaths_df))\n",
    "# tick_locations = [State for State in x_axis]\n",
    "# plt.figure(figsize=(20,4))\n",
    "# plt.bar(x_axis, avoi_deaths_df[\"Deaths per 100k Population\"], color='b', alpha=0.5, align=\"center\")\n",
    "# plt.xticks(tick_locations, avoi_deaths_df[\"State\"], rotation=\"vertical\")\n",
    "# plt.errorbar(avoi_deaths_df['State'], avoi_deaths_df['Deaths per 100k Population'], yerr=std_dev, fmt='o', color='r', ecolor='black', capsize=5)\n",
    "# plt.show()"
   ]
  },
  {
   "cell_type": "code",
   "execution_count": null,
   "id": "9316b149",
   "metadata": {},
   "outputs": [],
   "source": [
    "#COPY _ EDITS NEEDED\n",
    "# Sort the data set high to low - Top 5 results\n",
    "unis_clean_1819_sorted = unis_clean_1819.sort_values(\"Percentage of Uninsured Adults\")\n",
    "unis_clean_1819_sorted.head()"
   ]
  },
  {
   "cell_type": "code",
   "execution_count": null,
   "id": "cd4973e2",
   "metadata": {},
   "outputs": [],
   "source": [
    "# COPY\n",
    "# bottom 5 results\n",
    "unis_clean_1819_sorted.tail()"
   ]
  },
  {
   "cell_type": "code",
   "execution_count": null,
   "id": "bafd570d",
   "metadata": {},
   "outputs": [],
   "source": [
    "# COPY\n",
    "x_axis = np.arange(len(unis_clean_1819_sorted))\n",
    "tick_locations = [State for State in x_axis]\n",
    "plt.figure(figsize=(20,4))\n",
    "plt.bar(x_axis, unis_clean_1819_sorted[\"Percentage of Uninsured Adults\"], color='b', alpha=0.5, align=\"center\")\n",
    "plt.xticks(tick_locations, unis_clean_1819_sorted[\"State\"], rotation=\"vertical\")\n",
    "plt.title('Average Percentage of Uninsured Individuals per State (2018-2019)')\n",
    "plt.xlabel('State')\n",
    "plt.ylabel('Percentage of Uninsured Individuals')\n",
    "plt.show()"
   ]
  },
  {
   "cell_type": "code",
   "execution_count": null,
   "id": "1daf2493",
   "metadata": {},
   "outputs": [],
   "source": [
    "# COPY \n",
    "# Sort the data set high to low - top 5 results\n",
    "avoi_deaths_df_sorted = avoi_deaths_df.sort_values(\"Deaths per 100k Population\")\n",
    "avoi_deaths_df_sorted.head()"
   ]
  },
  {
   "cell_type": "code",
   "execution_count": null,
   "id": "df48b328",
   "metadata": {},
   "outputs": [],
   "source": [
    "# COPY\n",
    "# Bottom 5 results\n",
    "avoi_deaths_df_sorted.tail()"
   ]
  },
  {
   "cell_type": "code",
   "execution_count": null,
   "id": "d4f3eb46",
   "metadata": {},
   "outputs": [],
   "source": [
    "# COPY\n",
    "x_axis = np.arange(len(avoi_deaths_df_sorted))\n",
    "tick_locations = [State for State in x_axis]\n",
    "plt.figure(figsize=(20,4))\n",
    "plt.bar(x_axis, avoi_deaths_df_sorted[\"Deaths per 100k Population\"], color='b', alpha=0.5, align=\"center\")\n",
    "plt.xticks(tick_locations, avoi_deaths_df_sorted[\"State\"], rotation=\"vertical\")\n",
    "plt.title('Avoidable Deaths per 100,000 Population per State (2018-2019)')\n",
    "plt.xlabel('State')\n",
    "plt.ylabel('Deaths per 100k Population')\n",
    "plt.show()"
   ]
  },
  {
   "cell_type": "code",
   "execution_count": null,
   "id": "2b99f22c",
   "metadata": {},
   "outputs": [],
   "source": [
    "# COPY\n",
    "# Sort the data set high to low \n",
    "treat_deaths_df_sorted = treat_deaths_df.sort_values(\"Deaths per 100k Population\")\n",
    "treat_deaths_df_sorted.head()"
   ]
  },
  {
   "cell_type": "code",
   "execution_count": null,
   "id": "4d2fb6e6",
   "metadata": {},
   "outputs": [],
   "source": [
    "# COPY\n",
    "# Bottom 5 results\n",
    "treat_deaths_df_sorted.tail()"
   ]
  },
  {
   "cell_type": "code",
   "execution_count": null,
   "id": "0347c0ad",
   "metadata": {},
   "outputs": [],
   "source": [
    "# COPY\n",
    "x_axis = np.arange(len(treat_deaths_df_sorted))\n",
    "tick_locations = [State for State in x_axis]\n",
    "plt.figure(figsize=(20,4))\n",
    "plt.bar(x_axis, treat_deaths_df_sorted[\"Deaths per 100k Population\"], color='g', alpha=0.5, align=\"center\")\n",
    "plt.xticks(tick_locations, treat_deaths_df_sorted[\"State\"], rotation=\"vertical\")\n",
    "plt.title('Treatable Deaths per 100,000 Population per State (2018-2019)')\n",
    "plt.xlabel('State')\n",
    "plt.ylabel('Deaths per 100k Population')\n",
    "plt.show()"
   ]
  },
  {
   "cell_type": "code",
   "execution_count": null,
   "id": "b47eea97",
   "metadata": {},
   "outputs": [],
   "source": [
    "# COPY\n",
    "# Sort the data set high to low - top 5 results\n",
    "prev_deaths_df_sorted = prev_deaths_df.sort_values(\"Deaths per 100k Population\")\n",
    "prev_deaths_df_sorted.head()"
   ]
  },
  {
   "cell_type": "code",
   "execution_count": null,
   "id": "b25de8f8",
   "metadata": {},
   "outputs": [],
   "source": [
    "# COPY\n",
    "# Bottom 5 results\n",
    "prev_deaths_df_sorted.tail()"
   ]
  },
  {
   "cell_type": "code",
   "execution_count": null,
   "id": "1c97b915",
   "metadata": {},
   "outputs": [],
   "source": [
    "# COPY\n",
    "x_axis = np.arange(len(prev_deaths_df_sorted))\n",
    "tick_locations = [State for State in x_axis]\n",
    "plt.figure(figsize=(20,4))\n",
    "plt.bar(x_axis, prev_deaths_df_sorted[\"Deaths per 100k Population\"], color='y', alpha=0.5, align=\"center\")\n",
    "plt.xticks(tick_locations, prev_deaths_df_sorted[\"State\"], rotation=\"vertical\")\n",
    "plt.title('Preventable Deaths per 100,000 Population per State (2018-2019)')\n",
    "plt.xlabel('State')\n",
    "plt.ylabel('Deaths per 100k Population')\n",
    "plt.show()"
   ]
  },
  {
   "cell_type": "code",
   "execution_count": null,
   "id": "1ee1c07f",
   "metadata": {},
   "outputs": [],
   "source": [
    "# COPY\n",
    "# We ATTEMPTED to use the existing dataframes without the US -- but because those dropped based on index\n",
    "# the indexes didn't align and we got errors -- going to try to redo dfs instead\n",
    "\n",
    "# unis_clean_1819.reset_index()\n",
    "# percentage_unis = unis_clean_1819[\"Percentage of Uninsured Adults\"]\n",
    "# unis_1819_df = pd.DataFrame(percentage_unis)\n",
    "# unis_1819_df.head()"
   ]
  },
  {
   "cell_type": "code",
   "execution_count": null,
   "id": "68ba6024",
   "metadata": {},
   "outputs": [],
   "source": [
    "# COPY\n",
    "# avoi_deaths_df.reset_index()\n",
    "# avoi_factor = avoi_deaths_df[\"Deaths per 100k Population\"]\n",
    "# avoi_clean_df = pd.DataFrame(avoi_factor)\n",
    "# avoi_clean_df.head()"
   ]
  },
  {
   "cell_type": "code",
   "execution_count": null,
   "id": "4d25b26e",
   "metadata": {},
   "outputs": [],
   "source": [
    "# COPY\n",
    "# Creating an official DataFrame for the uninsured data to utilize with graphs\n",
    "unis_1819_steptodf = census_1819_df.groupby(\"State\")[\"Percentage of Uninsured Adults\"].mean().reset_index()\n",
    "unis_factor = unis_1819_steptodf[\"Percentage of Uninsured Adults\"]\n",
    "unis_1819_df = pd.DataFrame(unis_factor)\n",
    "\n",
    "# Display the resulting DataFrame\n",
    "unis_1819_df.head()"
   ]
  },
  {
   "cell_type": "code",
   "execution_count": null,
   "id": "bf30cd1f",
   "metadata": {},
   "outputs": [],
   "source": [
    "# COPY\n",
    "# creating an official dataframe for the avoidable deaths data\n",
    "avoi_factor = avoi_deaths_narrow[\"Deaths per 100k Population\"]\n",
    "avoidable_deaths_df = pd.DataFrame(avoi_factor)\n",
    "avoidable_deaths_df.head()"
   ]
  },
  {
   "cell_type": "code",
   "execution_count": null,
   "id": "a70b3829",
   "metadata": {},
   "outputs": [],
   "source": [
    "# COPY\n",
    "uninsured = unis_1819_df['Percentage of Uninsured Adults']\n",
    "deaths = avoidable_deaths_df['Deaths per 100k Population']\n",
    "# the next line (pd.concat) is from ChatGPT : https://pandas.pydata.org/pandas-docs/stable/reference/api/pandas.concat.html\n",
    "clean_data_df = pd.concat([uninsured, deaths], axis=1).dropna()\n",
    "clean_data_df.head()"
   ]
  },
  {
   "cell_type": "code",
   "execution_count": null,
   "id": "be705dd1",
   "metadata": {},
   "outputs": [],
   "source": [
    "# COPY\n",
    "x_uninsured = clean_data_df.iloc[:,0] \n",
    "y_deaths = clean_data_df.iloc[:,1] \n",
    "correlation = st.pearsonr(x_uninsured,y_deaths) \n",
    "plt.scatter(x_uninsured,y_deaths) \n",
    "plt.xlabel('Percentage Uninsured') \n",
    "plt.ylabel('Avoidable Deaths per 100,000 Population')\n",
    "plt.title('Scatter Plot Showing Correlation Between Uninsured Individuals and Avoidable Deaths')\n",
    "print(f\"The correlation between both factors is {round(correlation[0],2)}\") \n",
    "plt.show()"
   ]
  },
  {
   "cell_type": "code",
   "execution_count": null,
   "id": "36174ff3",
   "metadata": {},
   "outputs": [],
   "source": [
    "# COPY\n",
    "unis_avoi = pd.merge(unis_clean_1819, avoi_deaths_df, on=[\"State\"])\n",
    "unis_avoi.head(15)"
   ]
  },
  {
   "cell_type": "code",
   "execution_count": null,
   "id": "40d3c0bf",
   "metadata": {},
   "outputs": [],
   "source": [
    "# COPY\n",
    "x_uninsured = unis_avoi.iloc[:,1] \n",
    "y_deaths = unis_avoi.iloc[:,3] \n",
    "correlation = st.pearsonr(x_uninsured,y_deaths) \n",
    "plt.scatter(x_uninsured,y_deaths) \n",
    "plt.xlabel('Percentage Uninsured') \n",
    "plt.ylabel('Avoidable Deaths per 100,000 Population')\n",
    "plt.title('Scatter Plot Showing Correlation Between Uninsured Individuals and Avoidable Deaths')\n",
    "print(f\"The correlation between both factors is {round(correlation[0],2)}\") \n",
    "plt.show()"
   ]
  },
  {
   "cell_type": "code",
   "execution_count": null,
   "id": "e726da68",
   "metadata": {},
   "outputs": [],
   "source": [
    "# COPY\n",
    "unis_treat = pd.merge(unis_clean_1819, treat_deaths_df, on=[\"State\"])\n",
    "unis_treat.tail(15)"
   ]
  },
  {
   "cell_type": "code",
   "execution_count": null,
   "id": "0b2938e6",
   "metadata": {},
   "outputs": [],
   "source": [
    "# COPY\n",
    "x_uninsured = unis_treat.iloc[:,1] \n",
    "y_deaths = unis_treat.iloc[:,3] \n",
    "correlation = st.pearsonr(x_uninsured,y_deaths) \n",
    "plt.scatter(x_uninsured,y_deaths) \n",
    "plt.xlabel('Percentage Uninsured') \n",
    "plt.ylabel('Treatable Deaths per 100,000 Population')\n",
    "plt.title('Scatter Plot Showing Correlation Between Uninsured Individuals and Treatable Deaths')\n",
    "print(f\"The correlation between both factors is {round(correlation[0],2)}\") \n",
    "plt.show()"
   ]
  },
  {
   "cell_type": "code",
   "execution_count": null,
   "id": "7e36ab11",
   "metadata": {},
   "outputs": [],
   "source": [
    "# COPY\n",
    "unis_prev = pd.merge(unis_clean_1819, prev_deaths_df, on=[\"State\"])\n",
    "unis_prev.tail(15)"
   ]
  },
  {
   "cell_type": "code",
   "execution_count": null,
   "id": "1e419939",
   "metadata": {},
   "outputs": [],
   "source": [
    "# COPY\n",
    "\n",
    "x_uninsured = unis_prev.iloc[:,1] \n",
    "y_deaths = unis_prev.iloc[:,3] \n",
    "correlation = st.pearsonr(x_uninsured,y_deaths) \n",
    "plt.scatter(x_uninsured,y_deaths) \n",
    "plt.xlabel('Percentage Uninsured') \n",
    "plt.ylabel('Preventable Deaths per 100,000 Population')\n",
    "plt.title('Scatter Plot Showing Correlation Between Uninsured Individuals and Preventable Deaths')\n",
    "print(f\"The correlation between both factors is {round(correlation[0],2)}\") \n",
    "plt.show()"
   ]
  }
 ],
 "metadata": {
  "kernelspec": {
   "display_name": "Python 3 (ipykernel)",
   "language": "python",
   "name": "python3"
  },
  "language_info": {
   "codemirror_mode": {
    "name": "ipython",
    "version": 3
   },
   "file_extension": ".py",
   "mimetype": "text/x-python",
   "name": "python",
   "nbconvert_exporter": "python",
   "pygments_lexer": "ipython3",
   "version": "3.10.13"
  }
 },
 "nbformat": 4,
 "nbformat_minor": 5
}
