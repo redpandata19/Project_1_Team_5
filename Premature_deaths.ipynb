{
 "cells": [
  {
   "cell_type": "code",
   "execution_count": null,
   "id": "46081862",
   "metadata": {},
   "outputs": [],
   "source": [
    "# Import Dependencies\n",
    "import pandas as pd\n",
    "from pathlib import Path\n",
    "import chardet"
   ]
  },
  {
   "cell_type": "code",
   "execution_count": null,
   "id": "29d01609",
   "metadata": {},
   "outputs": [],
   "source": [
    "# Changed encoding to allow reading in Jupyter Notebook\n",
    "unis_adults = pd.read_csv('Resources/uninsured-adults-income-all-01-29-2024.csv', skiprows=2, encoding='cp1252')\n",
    "unis_adults.head(15)"
   ]
  },
  {
   "cell_type": "code",
   "execution_count": null,
   "id": "e997918f",
   "metadata": {},
   "outputs": [],
   "source": [
    "avoi_deaths = pd.read_csv('Resources/premature-avoidable-deaths-per-100,000-population-all-01-25-2024.csv', skiprows=2, encoding='cp1252')\n",
    "avoi_deaths.head(15)"
   ]
  },
  {
   "cell_type": "code",
   "execution_count": null,
   "id": "9bc3cb99",
   "metadata": {},
   "outputs": [],
   "source": [
    "prev_deaths = pd.read_csv('Resources/premature-deaths-from-preventable-causes-per-100,000-population-all-01-29-2024.csv', skiprows=2, encoding='cp1252')\n",
    "prev_deaths.head(15)"
   ]
  },
  {
   "cell_type": "code",
   "execution_count": null,
   "id": "02e8be86",
   "metadata": {},
   "outputs": [],
   "source": [
    "treat_deaths = pd.read_csv('Resources/premature-deaths-from-treatable-causes-per-100,000-population-all-01-29-2024.csv', skiprows=2, encoding='cp1252')\n",
    "treat_deaths.head(15)"
   ]
  },
  {
   "cell_type": "code",
   "execution_count": null,
   "id": "c3ada32f",
   "metadata": {},
   "outputs": [],
   "source": [
    "rows_unis = len(unis_adults)\n",
    "rows_unis"
   ]
  },
  {
   "cell_type": "code",
   "execution_count": null,
   "id": "47e8ede9",
   "metadata": {},
   "outputs": [],
   "source": [
    "rows_avoi = len(avoi_deaths)\n",
    "rows_avoi"
   ]
  },
  {
   "cell_type": "code",
   "execution_count": null,
   "id": "ab5a8933",
   "metadata": {},
   "outputs": [],
   "source": [
    "rows_prev = len(prev_deaths)\n",
    "rows_prev"
   ]
  },
  {
   "cell_type": "code",
   "execution_count": null,
   "id": "f88fefcd",
   "metadata": {},
   "outputs": [],
   "source": [
    "rows_treat = len(treat_deaths)\n",
    "rows_treat"
   ]
  },
  {
   "cell_type": "code",
   "execution_count": null,
   "id": "90ccb2af",
   "metadata": {},
   "outputs": [],
   "source": [
    "column_name = 'time_period'\n",
    "\n",
    "# Count the rows where the value in the specified column is '2019'\n",
    "count_2019 = (unis_adults[column_name] == 2019).sum()\n",
    "\n",
    "print(f\"The number of rows with the value '2019' in {column_name} is: {count_2019} in unis_adults\")\n",
    "count_avoi1819 = (avoi_deaths[column_name] == \"2018-19\").sum()\n",
    "\n",
    "print(f\"The number of rows with the value '2018-19' in {column_name} is: {count_avoi1819} in avoi_deaths\")\n",
    "count_prev1819 = (prev_deaths[column_name] == \"2018-19\").sum()\n",
    "\n",
    "print(f\"The number of rows with the value '2018-19' in {column_name} is: {count_prev1819} in prev_deaths\")\n",
    "count_tre1819 = (treat_deaths[column_name] == \"2018-19\").sum()\n",
    "\n",
    "print(f\"The number of rows with the value '2018-19' in {column_name} is: {count_tre1819} in treat_deaths\")"
   ]
  },
  {
   "cell_type": "code",
   "execution_count": null,
   "id": "30e0a00c",
   "metadata": {},
   "outputs": [],
   "source": [
    "#Figure out the column of \n",
    "census_1819_df = pd.DataFrame(unis_adults.loc[(unis_adults[\"time_period\"] == 2019) | (unis_adults[\"time_period\"] == 2018)]).reset_index()\n",
    "census_1819_df.head(7)"
   ]
  },
  {
   "cell_type": "code",
   "execution_count": null,
   "id": "789be44f",
   "metadata": {},
   "outputs": [],
   "source": [
    "census_1819_df.loc[census_1819_df[\"state\"]==\"Arizona\"].head()"
   ]
  },
  {
   "cell_type": "code",
   "execution_count": null,
   "id": "bb611ebf",
   "metadata": {},
   "outputs": [],
   "source": [
    "unis_clean_1819 = census_1819_df.groupby(\"state\")[\"point_estimate\"].mean().reset_index()\n",
    "# unis_clean_1819[\"point_estimate\" == \"Average rate of uninsured\"]\n",
    "\n",
    "# Display the resulting DataFrame\n",
    "unis_clean_1819.head()"
   ]
  },
  {
   "cell_type": "code",
   "execution_count": null,
   "id": "9b52e37f",
   "metadata": {},
   "outputs": [],
   "source": [
    "# column_name = 'column_name'\n",
    "\n",
    "# # Get the value counts for each unique value in the specified column\n",
    "# value_counts = avoi_deaths[\"state\"].value_counts()\n",
    "\n",
    "# print(f\"Value counts for {column_name}:\\n{value_counts}\")"
   ]
  },
  {
   "cell_type": "code",
   "execution_count": null,
   "id": "e95d376e",
   "metadata": {},
   "outputs": [],
   "source": []
  }
 ],
 "metadata": {
  "kernelspec": {
   "display_name": "Python 3 (ipykernel)",
   "language": "python",
   "name": "python3"
  },
  "language_info": {
   "codemirror_mode": {
    "name": "ipython",
    "version": 3
   },
   "file_extension": ".py",
   "mimetype": "text/x-python",
   "name": "python",
   "nbconvert_exporter": "python",
   "pygments_lexer": "ipython3",
   "version": "3.10.13"
  }
 },
 "nbformat": 4,
 "nbformat_minor": 5
}
